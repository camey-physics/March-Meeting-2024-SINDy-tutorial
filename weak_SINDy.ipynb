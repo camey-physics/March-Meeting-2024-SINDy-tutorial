{
  "cells": [
    {
      "cell_type": "code",
      "execution_count": null,
      "id": "4Ndf3E-OGksP",
      "metadata": {
        "id": "4Ndf3E-OGksP"
      },
      "outputs": [],
      "source": [
        "from google.colab import drive\n",
        "drive.mount('/content/drive')\n",
        "import os\n",
        "os.listdir('/content/drive/MyDrive/SINDy_tutorial')\n",
        "path = '/content/drive/MyDrive/SINDy_tutorial/'"
      ]
    },
    {
      "cell_type": "code",
      "execution_count": 3,
      "id": "2046e394-dde7-40b5-bafc-e6fd1f263b48",
      "metadata": {
        "id": "2046e394-dde7-40b5-bafc-e6fd1f263b48"
      },
      "outputs": [],
      "source": [
        "import numpy as np\n",
        "import h5py\n",
        "import matplotlib.pyplot as plt\n",
        "os.chdir(path)\n",
        "from SINDy_tools import calc_gradients, sequentially_thresholded_LSQ\n",
        "from SINDy_tools import get_vector_test_functions, integrate_3d"
      ]
    },
    {
      "cell_type": "code",
      "execution_count": 4,
      "id": "6a7eba39-1dac-4c4c-90c1-c10f8eace916",
      "metadata": {
        "id": "6a7eba39-1dac-4c4c-90c1-c10f8eace916"
      },
      "outputs": [],
      "source": [
        "f = h5py.File(path+'test.h5', 'r')\n",
        "dx = f['dx'][()]\n",
        "dy = dx\n",
        "dt = f['dt'][()]\n",
        "Qf = np.moveaxis(f['qtensor'][::4], 0, -1)\n",
        "Qf = np.array([[Qf[0],Qf[1]],[Qf[1],-Qf[0]]])\n",
        "uf = np.moveaxis(f['velocity'][::4], 0, -1)\n",
        "Pf = np.moveaxis(f['pressure'][::4], 0, -1)\n",
        "f.close()"
      ]
    },
    {
      "cell_type": "code",
      "source": [
        "Q = np.copy(Qf)# + np.random.normal(scale=1e-5, loc=0.0, size=Qf.shape)\n",
        "Q[0,0] = -Q[1,1]\n",
        "Q[0,1] = Q[1,0]\n",
        "u = np.copy(uf)\n",
        "P = np.copy(Pf)"
      ],
      "metadata": {
        "id": "P_JRftuLWcck"
      },
      "id": "P_JRftuLWcck",
      "execution_count": 5,
      "outputs": []
    },
    {
      "cell_type": "code",
      "execution_count": 13,
      "id": "1e836d6c-fbcf-4f7a-bcc8-8da5ab57b171",
      "metadata": {
        "id": "1e836d6c-fbcf-4f7a-bcc8-8da5ab57b171"
      },
      "outputs": [],
      "source": [
        "'''All data is arranged as [...,x,y,t], where \"...\" corresponds to vector terms'''\n",
        "lx, ly, lt = Q.shape[-3:]\n",
        "\n",
        "numSamples = 1000\n",
        "numDataPoints = lx *ly *lt\n",
        "sample = np.arange(numDataPoints)\n",
        "np.random.shuffle(sample)\n",
        "sample = sample[:numSamples]\n",
        "\n",
        "wx = 20\n",
        "wy = 20\n",
        "wt = 15\n",
        "\n",
        "vec_w, lap_w, grad_w, dt_w = get_vector_test_functions(wx, wy, wt, dx, dy, dt)"
      ]
    },
    {
      "cell_type": "code",
      "execution_count": 14,
      "id": "8f82f90d-f4d1-467b-b500-71f39b2a7ee6",
      "metadata": {
        "id": "8f82f90d-f4d1-467b-b500-71f39b2a7ee6"
      },
      "outputs": [],
      "source": [
        "lhs_term = '∇²u'\n",
        "rhs_term_names = []\n",
        "rhs_term_names.append('∂ₜu')\n",
        "rhs_term_names.append('u')\n",
        "rhs_term_names.append('∇.Q')\n",
        "rhs_term_names.append('Q.u')\n",
        "rhs_term_names.append('(u.u)u')\n",
        "rhs_term_names.append('∇(Q:Q)')\n",
        "#rhs_term_names.append('∇P')\n",
        "# term_names.append('(∇.u)u')\n",
        "\n",
        "rhs_term_names = np.array(rhs_term_names)\n",
        "numTerms = rhs_term_names.shape[0]"
      ]
    },
    {
      "cell_type": "code",
      "execution_count": 19,
      "id": "77442e7e-865b-4dfd-bf3d-1ee7ebbf624c",
      "metadata": {
        "id": "77442e7e-865b-4dfd-bf3d-1ee7ebbf624c"
      },
      "outputs": [],
      "source": [
        "lap_u = calc_gradients(u, lap_order=[1], dh=(dx,dx))\n",
        "grad_Q = calc_gradients(Q, grad_order=[1], dh=(dx,dx))\n",
        "grad_P = calc_gradients(P, grad_order=[1], dh=(dx,dx))\n",
        "dt_u = np.gradient(u, dt, axis=-1)\n",
        "\n",
        "lhs = np.zeros(numSamples, dtype=float)\n",
        "rhs = np.zeros((numTerms, numSamples), dtype=float)\n",
        "\n",
        "for sample in range(numSamples):\n",
        "    xi = np.random.randint(wx, lx-wx)\n",
        "    yi = np.random.randint(wy, ly-wy)\n",
        "    ti = np.random.randint(wt, lt-wt)\n",
        "    s = (..., slice(xi-wx, xi+wx+1), slice(yi-wy, yi+wy+1), slice(ti-wt, ti+wt+1))\n",
        "\n",
        "    # LHS\n",
        "    tmp = np.einsum('a...,a...', lap_w, u[s])\n",
        "    tmp = integrate_3d(tmp, dx, dy, dt)\n",
        "    lhs[sample] = tmp\n",
        "\n",
        "    # RHS\n",
        "    term = 0\n",
        "    '''term_names.append('d_t u')'''\n",
        "    tmp = np.einsum('a...,a...', dt_w, u[s])\n",
        "    tmp = integrate_3d(tmp, dx, dy, dt)\n",
        "    rhs[term,sample] = tmp#[0]+tmp[1]\n",
        "    term += 1\n",
        "    '''term_names.append('u')'''\n",
        "    tmp = np.einsum('a...,a...', vec_w, u[s])\n",
        "    tmp = integrate_3d(tmp, dx, dy, dt)\n",
        "    rhs[term,sample] = tmp\n",
        "    term += 1\n",
        "    '''term_names.append('∇.Q')'''\n",
        "    tmp = np.einsum('ab...,ba...->...',grad_w, Q[s])\n",
        "    tmp = integrate_3d(tmp, dx, dy, dt)\n",
        "    rhs[term,sample] = tmp\n",
        "    term += 1\n",
        "    '''term_names.append('Q.u')'''\n",
        "    tmp = np.einsum('ba...,a...,b...', Q[s], u[s], vec_w)\n",
        "    tmp = integrate_3d(tmp)\n",
        "    rhs[term,sample] = tmp\n",
        "    term += 1\n",
        "    '''term_names.append('(u.u)u')'''\n",
        "    tmp = u[s]\n",
        "    tmp = np.einsum('a...,a...,b...,b...', tmp, tmp, tmp, vec_w)\n",
        "    tmp = integrate_3d(tmp)\n",
        "    rhs[term,sample] = tmp\n",
        "    term += 1\n",
        "    '''term_names.append('∇(Q:Q)')'''\n",
        "    tmp = 2 *np.einsum('cab...,ba...,c...', grad_Q[s], Q[s], vec_w)\n",
        "    tmp = integrate_3d(tmp)\n",
        "    rhs[term,sample] = tmp\n",
        "    term += 1\n",
        "rhs = rhs.T"
      ]
    },
    {
      "cell_type": "code",
      "execution_count": null,
      "id": "bf922e56-76f4-4547-bf77-51be7fb7ba2c",
      "metadata": {
        "id": "bf922e56-76f4-4547-bf77-51be7fb7ba2c"
      },
      "outputs": [],
      "source": [
        "coeff, R2 = sequentially_thresholded_LSQ(rhs, lhs)\n",
        "\n",
        "plt.plot(R2, '-o')"
      ]
    },
    {
      "cell_type": "code",
      "source": [
        "I = coeff != 0\n",
        "fitTerms = 2\n",
        "print('R^2=%0.8f'%R2[fitTerms-1])\n",
        "print(coeff[fitTerms-1][I[fitTerms-1]])\n",
        "print(rhs_term_names[I[fitTerms-1]])"
      ],
      "metadata": {
        "id": "ik4d-WE74fiW"
      },
      "id": "ik4d-WE74fiW",
      "execution_count": null,
      "outputs": []
    },
    {
      "cell_type": "code",
      "source": [],
      "metadata": {
        "id": "AnvJTCkZT4lH"
      },
      "id": "AnvJTCkZT4lH",
      "execution_count": null,
      "outputs": []
    }
  ],
  "metadata": {
    "colab": {
      "provenance": []
    },
    "kernelspec": {
      "display_name": "Python 3 (ipykernel)",
      "language": "python",
      "name": "python3"
    },
    "language_info": {
      "codemirror_mode": {
        "name": "ipython",
        "version": 3
      },
      "file_extension": ".py",
      "mimetype": "text/x-python",
      "name": "python",
      "nbconvert_exporter": "python",
      "pygments_lexer": "ipython3",
      "version": "3.11.3"
    }
  },
  "nbformat": 4,
  "nbformat_minor": 5
}